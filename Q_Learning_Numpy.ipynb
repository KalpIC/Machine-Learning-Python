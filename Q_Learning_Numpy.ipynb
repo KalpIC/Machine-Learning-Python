{
 "cells": [
  {
   "cell_type": "code",
   "execution_count": 1,
   "metadata": {},
   "outputs": [],
   "source": [
    "#edureka tutorials\n",
    "#Only Numpy\n",
    "import numpy as np"
   ]
  },
  {
   "cell_type": "code",
   "execution_count": 2,
   "metadata": {},
   "outputs": [],
   "source": [
    "#Intilize parameters\n",
    "gamma = 0.75 #Discount factor\n",
    "alpha = 0.9 #Learning Rate"
   ]
  },
  {
   "cell_type": "code",
   "execution_count": 3,
   "metadata": {},
   "outputs": [],
   "source": [
    "# Defining States\n",
    "\n",
    "location_to_state = {\n",
    "    \n",
    "    'L1' : 0,\n",
    "    'L2' : 1,\n",
    "    'L3' : 2,\n",
    "    'L4' : 3,\n",
    "    'L5' : 4,\n",
    "    'L6' : 5,\n",
    "    'L7' : 6,\n",
    "    'L8' : 7,\n",
    "    'L9' : 8,\n",
    "    \n",
    "    \n",
    "}"
   ]
  },
  {
   "cell_type": "code",
   "execution_count": 4,
   "metadata": {},
   "outputs": [],
   "source": [
    "# Define the Actions\n",
    "actions = [0,1,2,3,4,5,6,7,8]"
   ]
  },
  {
   "cell_type": "code",
   "execution_count": 5,
   "metadata": {},
   "outputs": [],
   "source": [
    "# Define the Rewards\n",
    "rewards = np.array([[0,1,0,0,0,0,0,0,0],\n",
    "                    [1,0,1,0,1,0,0,0,0],\n",
    "                    [0,1,0,0,0,1,0,0,0],\n",
    "                    [0,0,0,0,0,0,1,0,0],\n",
    "                    [0,1,0,0,0,0,0,1,0],\n",
    "                    [0,0,1,0,0,0,0,0,0],\n",
    "                    [0,0,0,1,0,0,0,1,0],\n",
    "                    [0,0,0,0,1,0,1,0,1],\n",
    "                    [0,0,0,0,0,0,0,1,0],\n",
    "                   ])"
   ]
  },
  {
   "cell_type": "code",
   "execution_count": 7,
   "metadata": {},
   "outputs": [],
   "source": [
    "# Maps Indices to locations\n",
    "state_to_location = dict((state,location) for location, state in location_to_state.items())"
   ]
  },
  {
   "cell_type": "code",
   "execution_count": 8,
   "metadata": {},
   "outputs": [
    {
     "data": {
      "text/plain": [
       "{0: 'L1',\n",
       " 1: 'L2',\n",
       " 2: 'L3',\n",
       " 3: 'L4',\n",
       " 4: 'L5',\n",
       " 5: 'L6',\n",
       " 6: 'L7',\n",
       " 7: 'L8',\n",
       " 8: 'L9'}"
      ]
     },
     "execution_count": 8,
     "metadata": {},
     "output_type": "execute_result"
    }
   ],
   "source": [
    "state_to_location"
   ]
  },
  {
   "cell_type": "code",
   "execution_count": 16,
   "metadata": {},
   "outputs": [],
   "source": [
    "def get_optimal_route(start_location, end_location):\n",
    "    \n",
    "    rewards_new = np.copy(rewards)\n",
    "    \n",
    "    ending_state = location_to_state[end_location]\n",
    "    \n",
    "    rewards_new[ending_state,ending_state] = 999\n",
    "    \n",
    "    #.. Q learning Algorithm ..#\n",
    "    \n",
    "    Q = np.array(np.zeros([9,9]))\n",
    "    \n",
    "      # Q learning Process\n",
    "        \n",
    "    for i in range(1000):\n",
    "        \n",
    "        current_state = np.random.randint(0,9)\n",
    "        playable_actions = []\n",
    "        \n",
    "        for j in range(9):\n",
    "            if rewards_new[current_state,j]>0:\n",
    "                playable_actions.append(j)\n",
    "        \n",
    "        next_state = np.random.choice(playable_actions)\n",
    "        \n",
    "        # Temporal Difference\n",
    "        TD = rewards_new[current_state, next_state] + gamma * Q[next_state, np.argmax(Q[next_state,])] - Q[current_state, next_state]\n",
    "        \n",
    "        Q[current_state,next_state] += alpha * TD\n",
    "        \n",
    "    \n",
    "    route = [start_location]\n",
    "    \n",
    "    next_location = start_location\n",
    "    \n",
    "    while(next_location!= end_location):\n",
    "        \n",
    "        starting_state = location_to_state[start_location]\n",
    "        next_state = np.argmax(Q[starting_state,])\n",
    "        next_location = state_to_location[next_state]\n",
    "        route.append(next_location)\n",
    "        \n",
    "        start_location = next_location\n",
    "        \n",
    "    return route\n",
    "        \n",
    "        \n",
    "        "
   ]
  },
  {
   "cell_type": "code",
   "execution_count": 17,
   "metadata": {},
   "outputs": [
    {
     "name": "stdout",
     "output_type": "stream",
     "text": [
      "['L9', 'L8', 'L5', 'L2', 'L1']\n"
     ]
    }
   ],
   "source": [
    "print(get_optimal_route('L9','L1'))"
   ]
  },
  {
   "cell_type": "code",
   "execution_count": 19,
   "metadata": {},
   "outputs": [
    {
     "name": "stdout",
     "output_type": "stream",
     "text": [
      "['L9', 'L8', 'L5', 'L2', 'L3', 'L6']\n"
     ]
    }
   ],
   "source": [
    "print(get_optimal_route('L9','L6'))"
   ]
  },
  {
   "cell_type": "code",
   "execution_count": 20,
   "metadata": {},
   "outputs": [
    {
     "name": "stdout",
     "output_type": "stream",
     "text": [
      "['L4', 'L7', 'L8', 'L5', 'L2', 'L3', 'L6']\n"
     ]
    }
   ],
   "source": [
    "print(get_optimal_route('L4','L6'))"
   ]
  },
  {
   "cell_type": "code",
   "execution_count": 21,
   "metadata": {},
   "outputs": [
    {
     "name": "stdout",
     "output_type": "stream",
     "text": [
      "['L1', 'L2', 'L5']\n"
     ]
    }
   ],
   "source": [
    "print(get_optimal_route('L1','L5'))"
   ]
  },
  {
   "cell_type": "code",
   "execution_count": 24,
   "metadata": {},
   "outputs": [],
   "source": [
    "# Try for three locations\n",
    "def get_optimal_route_for_three(location1,location2,location3):\n",
    "    \n",
    "    #from loc1 to loc2 \n",
    "    first_route = get_optimal_route(location1,location2)\n",
    "    \n",
    "    # from loc2 to loc3\n",
    "    second_route = get_optimal_route(location2,location3)\n",
    "    \n",
    "    #Journey loc1 to loc2 to loc3\n",
    "    journey = first_route + second_route\n",
    "    \n",
    "    return journey\n",
    "    "
   ]
  },
  {
   "cell_type": "code",
   "execution_count": 25,
   "metadata": {},
   "outputs": [
    {
     "data": {
      "text/plain": [
       "['L4', 'L7', 'L8', 'L9', 'L9', 'L8', 'L5', 'L2', 'L3', 'L6']"
      ]
     },
     "execution_count": 25,
     "metadata": {},
     "output_type": "execute_result"
    }
   ],
   "source": [
    "get_optimal_route_for_three('L4','L9','L6')"
   ]
  },
  {
   "cell_type": "code",
   "execution_count": null,
   "metadata": {},
   "outputs": [],
   "source": []
  }
 ],
 "metadata": {
  "kernelspec": {
   "display_name": "Python 3",
   "language": "python",
   "name": "python3"
  },
  "language_info": {
   "codemirror_mode": {
    "name": "ipython",
    "version": 3
   },
   "file_extension": ".py",
   "mimetype": "text/x-python",
   "name": "python",
   "nbconvert_exporter": "python",
   "pygments_lexer": "ipython3",
   "version": "3.7.3"
  }
 },
 "nbformat": 4,
 "nbformat_minor": 2
}
